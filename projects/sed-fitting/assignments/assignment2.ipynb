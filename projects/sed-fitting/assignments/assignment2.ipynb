{
 "cells": [
  {
   "cell_type": "markdown",
   "id": "c4f9a492",
   "metadata": {},
   "source": [
    "# Assignment 2\n",
    "\n",
    "## Machine Learning Techniques\n",
    "\n",
    "This assignment is split into 3 sections, roughly corresponding to the contents of each of the 3 weeks in the Machine Learning module. \n",
    "\n",
    "All assignments are presented as Jupyter notebooks. You will fork the repository to have your own access to all files. You can edit this notebook directly with your answers and push your changes to GitHub. \n",
    "\n",
    "The goal of this assignment is to use different ML techniques to explore your data, find patterns in it, and eventually build a model that will allow us to predict stellar mass & redshift of galaxies *without doing SED fitting*."
   ]
  },
  {
   "cell_type": "markdown",
   "id": "d29cfd0a",
   "metadata": {},
   "source": [
    "# Section 1: Data Compression\n",
    "\n",
    "#### Question 1\n",
    "\n",
    "What is a dimensionality reduction technique? Why would you use one?"
   ]
  },
  {
   "cell_type": "markdown",
   "id": "e9211b19-60b6-47d1-9fc9-8d09e53e12d3",
   "metadata": {},
   "source": [
    "#### Question 2\n",
    "\n",
    "There are many different data compression techniques: PCA, UMAP, tSNE, VAE... Pick two of these methods, and explain briefly: \n",
    "* How do each one of them work?\n",
    "* What are advantages or disadvantages of each method?\n",
    "* When would you use one over the other?"
   ]
  },
  {
   "cell_type": "markdown",
   "id": "bd807bba-e772-4899-9c33-995d609bddae",
   "metadata": {},
   "source": [
    "#### Question 3\n",
    "\n",
    "The code below loads in the input data catalog.\n"
   ]
  },
  {
   "cell_type": "code",
   "execution_count": 2,
   "id": "e0069e67-566f-4aa4-b23f-da5d4a2702fe",
   "metadata": {},
   "outputs": [
    {
     "data": {
      "text/html": [
       "<div>\n",
       "<style scoped>\n",
       "    .dataframe tbody tr th:only-of-type {\n",
       "        vertical-align: middle;\n",
       "    }\n",
       "\n",
       "    .dataframe tbody tr th {\n",
       "        vertical-align: top;\n",
       "    }\n",
       "\n",
       "    .dataframe thead th {\n",
       "        text-align: right;\n",
       "    }\n",
       "</style>\n",
       "<table border=\"1\" class=\"dataframe\">\n",
       "  <thead>\n",
       "    <tr style=\"text-align: right;\">\n",
       "      <th></th>\n",
       "      <th>id</th>\n",
       "      <th>ra</th>\n",
       "      <th>dec</th>\n",
       "      <th>redshift</th>\n",
       "      <th>PLATE</th>\n",
       "      <th>MJD</th>\n",
       "      <th>FIBERID</th>\n",
       "      <th>designation</th>\n",
       "      <th>flux0_u</th>\n",
       "      <th>flux0_u_e</th>\n",
       "      <th>...</th>\n",
       "      <th>flux_w2_e</th>\n",
       "      <th>flux_w3</th>\n",
       "      <th>flux_w3_e</th>\n",
       "      <th>flux_w4</th>\n",
       "      <th>flux_w4_e</th>\n",
       "      <th>extin_u</th>\n",
       "      <th>extin_g</th>\n",
       "      <th>extin_r</th>\n",
       "      <th>extin_i</th>\n",
       "      <th>extin_z</th>\n",
       "    </tr>\n",
       "  </thead>\n",
       "  <tbody>\n",
       "    <tr>\n",
       "      <th>0</th>\n",
       "      <td>3</td>\n",
       "      <td>337.450310</td>\n",
       "      <td>1.266134</td>\n",
       "      <td>0.088372</td>\n",
       "      <td>376</td>\n",
       "      <td>52143</td>\n",
       "      <td>404</td>\n",
       "      <td>J222948.07+011558.1</td>\n",
       "      <td>0.000031</td>\n",
       "      <td>0.000003</td>\n",
       "      <td>...</td>\n",
       "      <td>0.000049</td>\n",
       "      <td>4.172000e-07</td>\n",
       "      <td>0.000209</td>\n",
       "      <td>0.000002</td>\n",
       "      <td>0.001187</td>\n",
       "      <td>0.341327</td>\n",
       "      <td>0.265960</td>\n",
       "      <td>0.183990</td>\n",
       "      <td>0.136724</td>\n",
       "      <td>0.101698</td>\n",
       "    </tr>\n",
       "    <tr>\n",
       "      <th>1</th>\n",
       "      <td>5</td>\n",
       "      <td>338.115522</td>\n",
       "      <td>1.270146</td>\n",
       "      <td>0.163800</td>\n",
       "      <td>376</td>\n",
       "      <td>52143</td>\n",
       "      <td>567</td>\n",
       "      <td>J223227.69+011612.6</td>\n",
       "      <td>0.000011</td>\n",
       "      <td>0.000004</td>\n",
       "      <td>...</td>\n",
       "      <td>0.000111</td>\n",
       "      <td>9.851000e-07</td>\n",
       "      <td>0.000493</td>\n",
       "      <td>0.000004</td>\n",
       "      <td>0.001883</td>\n",
       "      <td>0.368063</td>\n",
       "      <td>0.286793</td>\n",
       "      <td>0.198402</td>\n",
       "      <td>0.147434</td>\n",
       "      <td>0.109664</td>\n",
       "    </tr>\n",
       "    <tr>\n",
       "      <th>2</th>\n",
       "      <td>8</td>\n",
       "      <td>341.101481</td>\n",
       "      <td>1.266255</td>\n",
       "      <td>0.143369</td>\n",
       "      <td>378</td>\n",
       "      <td>52146</td>\n",
       "      <td>404</td>\n",
       "      <td>J224424.38+011558.3</td>\n",
       "      <td>0.000017</td>\n",
       "      <td>0.000003</td>\n",
       "      <td>...</td>\n",
       "      <td>0.000039</td>\n",
       "      <td>1.013700e-06</td>\n",
       "      <td>0.000507</td>\n",
       "      <td>0.000008</td>\n",
       "      <td>0.003856</td>\n",
       "      <td>0.337630</td>\n",
       "      <td>0.263079</td>\n",
       "      <td>0.181997</td>\n",
       "      <td>0.135243</td>\n",
       "      <td>0.100596</td>\n",
       "    </tr>\n",
       "  </tbody>\n",
       "</table>\n",
       "<p>3 rows × 49 columns</p>\n",
       "</div>"
      ],
      "text/plain": [
       "   id          ra       dec  redshift  PLATE    MJD  FIBERID  \\\n",
       "0   3  337.450310  1.266134  0.088372    376  52143      404   \n",
       "1   5  338.115522  1.270146  0.163800    376  52143      567   \n",
       "2   8  341.101481  1.266255  0.143369    378  52146      404   \n",
       "\n",
       "           designation   flux0_u  flux0_u_e  ...  flux_w2_e       flux_w3  \\\n",
       "0  J222948.07+011558.1  0.000031   0.000003  ...   0.000049  4.172000e-07   \n",
       "1  J223227.69+011612.6  0.000011   0.000004  ...   0.000111  9.851000e-07   \n",
       "2  J224424.38+011558.3  0.000017   0.000003  ...   0.000039  1.013700e-06   \n",
       "\n",
       "   flux_w3_e   flux_w4  flux_w4_e   extin_u   extin_g   extin_r   extin_i  \\\n",
       "0   0.000209  0.000002   0.001187  0.341327  0.265960  0.183990  0.136724   \n",
       "1   0.000493  0.000004   0.001883  0.368063  0.286793  0.198402  0.147434   \n",
       "2   0.000507  0.000008   0.003856  0.337630  0.263079  0.181997  0.135243   \n",
       "\n",
       "    extin_z  \n",
       "0  0.101698  \n",
       "1  0.109664  \n",
       "2  0.100596  \n",
       "\n",
       "[3 rows x 49 columns]"
      ]
     },
     "execution_count": 2,
     "metadata": {},
     "output_type": "execute_result"
    }
   ],
   "source": [
    "from astropy.table import Table\n",
    "from astropy.io import fits\n",
    "with fits.open('../data/sw_input.fits') as f:\n",
    "    df = Table(f[1].data).to_pandas()\n",
    "    f.close()\n",
    "    \n",
    "# Display the top 3 rows of the dataframe\n",
    "df.head(3)"
   ]
  },
  {
   "cell_type": "markdown",
   "id": "ec4b969a-d6c6-4c67-b2cb-b050a753e504",
   "metadata": {},
   "source": [
    "Then do the following:\n",
    "\n",
    "1. Select the *meaningful* columns from the dataframe (i.e., those you think have predictive value).\n",
    "2. Choose a reasonably-sized subset of your data ($10^3 \\sim 10^4$ so galaxies)\n",
    "    > Make sure to save your subset, or at least the IDs you chose, for later - you will need them!\n",
    "4. Choose a dimensionality reduction technique\n",
    "    > Most already have easy-to-use implementations so you don't have to code them from scratch: [PCA](https://scikit-learn.org/stable/modules/generated/sklearn.decomposition.PCA.html), [UMAP](https://umap-learn.readthedocs.io/en/latest/index.html), [tSNR](https://scikit-learn.org/stable/modules/generated/sklearn.manifold.TSNE.html). Training something like a Variational Autoencoder is a more involved task and requires access to a GPU.\n",
    "5. Reduce your data to 2 dimensions using your chosen algorithm\n",
    "6. Save your output\n",
    "    > Remember to keep the IDs with the principal components, so that you can easily see which galaxy those values are for later\n",
    "7. Plot the two principal variables against each other and describe what you see\n",
    "    * Are there any obvious patterns in your data?\n",
    "    * Are there any clusters?\n",
    "  \n",
    "If you are feeling brave, you can try several encoding tools - how do your results change? What if you keep more than 2 principal variables? Does changing *hyperparameters* of your algorithm change your results quantitatively / qualitatively?\n"
   ]
  },
  {
   "cell_type": "markdown",
   "id": "3bbc20a8-19c8-4750-a66d-060618e0a6fb",
   "metadata": {},
   "source": [
    "#### Question 4\n",
    "\n",
    "Now, load in the `sw_output.fits` table and cross-match the two tables to get stellar masses, redshifts, dust opacities, etc.\n",
    "\n",
    "7. Color the points on your plot above by a physical property and discuss if you see any patterns."
   ]
  },
  {
   "cell_type": "markdown",
   "id": "68c435a6",
   "metadata": {},
   "source": [
    "# Section 2: Unsupervised ML\n",
    "\n",
    "In section, you will implement a clustering algorithm to see if there are any *natural* clusters in your data. You can choose any algorithm from the ones shown [on the Scikit-Learn website](https://scikit-learn.org/stable/modules/clustering.html). The best algorithm depends on your data: so refer back to the plots you made in Section 1 to see which algorithm you think will work best. \n",
    "\n",
    "Load in the subset you chose in the previous section. "
   ]
  },
  {
   "cell_type": "code",
   "execution_count": 3,
   "id": "dcc9e7c1-4841-434a-9303-adaa230ac009",
   "metadata": {},
   "outputs": [],
   "source": [
    "# Space for code"
   ]
  },
  {
   "cell_type": "markdown",
   "id": "816f0130-91fa-48cd-99b3-70362f088760",
   "metadata": {},
   "source": [
    "#### Question 1\n",
    "\n",
    "Choose a clustering algorithm. Why did you go for this particular one?"
   ]
  },
  {
   "cell_type": "markdown",
   "id": "95c1b6fa-ba74-4185-8aa2-827652aa7c71",
   "metadata": {},
   "source": [
    "#### Question 2\n",
    "\n",
    "Run clustering on your subsample (again, only using the columns you think are relevant / have important information). Think of these questions, if they are relevant to your algorithm - often the *hyperparameters* of your algorithm will need you to answer these.\n",
    "\n",
    "* How many clusters should you fit to your data?\n",
    "* Where should the initial guesses for the cluster centers be?\n",
    "* What should be the typical size for each cluster?"
   ]
  },
  {
   "cell_type": "markdown",
   "id": "694a9382-c33b-4ea3-876f-00e2089e544c",
   "metadata": {},
   "source": [
    "#### Question 3\n",
    "\n",
    "Look at the average *physical properties* (mass, redshift, dust...) from the output catalog for each one of your clusters. Are the clusters statistically significant in any of these properties?"
   ]
  },
  {
   "cell_type": "markdown",
   "id": "5044dc03-00c0-4b88-abe7-dc8cb19a5935",
   "metadata": {},
   "source": [
    "#### Question 4\n",
    "\n",
    "* Repeat **steps 1-3** but using your compressed (2-dimensional) dataset instead of the full one. Do you see any differences in your results?\n",
    "* Plot your principal components against one another, this time coloring points by the cluster they belong to. Visually, do you think your clustering worked well?\n"
   ]
  },
  {
   "cell_type": "markdown",
   "id": "172abd0b-50dd-4f18-b658-e003215820e3",
   "metadata": {},
   "source": [
    "<font color='red'>Optional? Maybe? Undecided:</font> plot the decision boundary plot (see [examples here](https://scikit-learn.org/stable/modules/generated/sklearn.inspection.DecisionBoundaryDisplay.html)) for your clustering algorithm... this is easier after dimensionality reduction\n",
    "\n",
    "Also aside note to self: remind them to normalize data"
   ]
  },
  {
   "cell_type": "markdown",
   "id": "237b7702",
   "metadata": {},
   "source": [
    "# STEP 3 - Supervised learning\n",
    "\n",
    "Use a supervised learning tool (decision trees... regression... whatever they want) to predict mass/redshift from photometry for their sample\n",
    "\n",
    "* Evaluate accuracy \n",
    "* Compare to a different sample in the data (test set) - what is the accuracy\n",
    "* Compare to my cherry picked sample (to do) - what is the accuracy"
   ]
  },
  {
   "cell_type": "code",
   "execution_count": null,
   "id": "a8544d72",
   "metadata": {},
   "outputs": [],
   "source": [
    "#### Supervised M##"
   ]
  },
  {
   "cell_type": "code",
   "execution_count": null,
   "id": "fc77f93a-5fea-49c1-90a6-310e8b64c4ae",
   "metadata": {},
   "outputs": [],
   "source": []
  }
 ],
 "metadata": {
  "kernelspec": {
   "display_name": "Python 3 (ipykernel)",
   "language": "python",
   "name": "python3"
  },
  "language_info": {
   "codemirror_mode": {
    "name": "ipython",
    "version": 3
   },
   "file_extension": ".py",
   "mimetype": "text/x-python",
   "name": "python",
   "nbconvert_exporter": "python",
   "pygments_lexer": "ipython3",
   "version": "3.10.0"
  }
 },
 "nbformat": 4,
 "nbformat_minor": 5
}
